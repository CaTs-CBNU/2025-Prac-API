{
 "cells": [
  {
   "cell_type": "markdown",
   "metadata": {},
   "source": [
    "### 필요한 라이브러리 임포트"
   ]
  },
  {
   "cell_type": "code",
   "execution_count": 1,
   "metadata": {},
   "outputs": [],
   "source": [
    "import requests\n",
    "import csv"
   ]
  },
  {
   "cell_type": "markdown",
   "metadata": {},
   "source": [
    "##### 카카오 API 등록"
   ]
  },
  {
   "cell_type": "code",
   "execution_count": 2,
   "metadata": {},
   "outputs": [],
   "source": [
    "KAKAO_API_KEY = \"b65e1e72c8487ac6b05600c41a49e6a9\""
   ]
  },
  {
   "cell_type": "markdown",
   "metadata": {},
   "source": [
    "##### 충북대학교 중심 좌표 (위도, 경도)"
   ]
  },
  {
   "cell_type": "code",
   "execution_count": 3,
   "metadata": {},
   "outputs": [],
   "source": [
    "CENTRAL_LAT, CENTRAL_LNG = 36.63, 127.45\n",
    "RADIUS = 1000 # 반경 1KM"
   ]
  },
  {
   "cell_type": "markdown",
   "metadata": {},
   "source": [
    "##### 카카오 API 요청 URL"
   ]
  },
  {
   "cell_type": "code",
   "execution_count": 4,
   "metadata": {},
   "outputs": [],
   "source": [
    "URL = f\"https://dapi.kakao.com/v2/local/search/category.json\""
   ]
  },
  {
   "cell_type": "markdown",
   "metadata": {},
   "source": [
    "##### 카카오 API 요청 헤더 설정"
   ]
  },
  {
   "cell_type": "code",
   "execution_count": 5,
   "metadata": {},
   "outputs": [],
   "source": [
    "headers = {\n",
    "    \"Authorization\": f\"KakaoAK {KAKAO_API_KEY}\"\n",
    "}"
   ]
  },
  {
   "cell_type": "markdown",
   "metadata": {},
   "source": [
    "##### 카테고리 코드 (예: 음식점 'FD6', 카페 'CE7')"
   ]
  },
  {
   "cell_type": "code",
   "execution_count": 6,
   "metadata": {},
   "outputs": [],
   "source": [
    "category_code = \"FD6\""
   ]
  },
  {
   "cell_type": "code",
   "execution_count": 7,
   "metadata": {},
   "outputs": [],
   "source": [
    "params = {\n",
    "    \"category_group_code\": category_code,\n",
    "    \"x\": CENTRAL_LNG,\n",
    "    \"y\": CENTRAL_LAT,\n",
    "    \"radius\": RADIUS,\n",
    "    \"size\": 15 # 최대 15개까지만 가져옴\n",
    "}"
   ]
  },
  {
   "cell_type": "markdown",
   "metadata": {},
   "source": [
    "##### API 요청 보내기"
   ]
  },
  {
   "cell_type": "code",
   "execution_count": 8,
   "metadata": {},
   "outputs": [
    {
     "name": "stdout",
     "output_type": "stream",
     "text": [
      "{'documents': [{'address_name': '충북 청주시 서원구 개신동 279-5',\n",
      "                'category_group_code': 'FD6',\n",
      "                'category_group_name': '음식점',\n",
      "                'category_name': '음식점 > 한식 > 국수 > 칼국수',\n",
      "                'distance': '664',\n",
      "                'id': '9617344',\n",
      "                'phone': '043-262-6800',\n",
      "                'place_name': '현고들깨손칼국수',\n",
      "                'place_url': 'http://place.map.kakao.com/9617344',\n",
      "                'road_address_name': '충북 청주시 서원구 성봉로220번길 16',\n",
      "                'x': '127.450517360019',\n",
      "                'y': '36.6240288297433'},\n",
      "               {'address_name': '충북 청주시 흥덕구 복대동 45-3',\n",
      "                'category_group_code': 'FD6',\n",
      "                'category_group_name': '음식점',\n",
      "                'category_name': '음식점 > 한식',\n",
      "                'distance': '651',\n",
      "                'id': '584300004',\n",
      "                'phone': '0507-1325-3015',\n",
      "                'place_name': '강남면옥 청주점',\n",
      "                'place_url': 'http://place.map.kakao.com/584300004',\n",
      "                'road_address_name': '충북 청주시 흥덕구 가로수로 1367',\n",
      "                'x': '127.445013331829',\n",
      "                'y': '36.6342791508355'},\n",
      "               {'address_name': '충북 청주시 흥덕구 복대동 169-1',\n",
      "                'category_group_code': 'FD6',\n",
      "                'category_group_name': '음식점',\n",
      "                'category_name': '음식점 > 한식 > 해장국',\n",
      "                'distance': '366',\n",
      "                'id': '7891339',\n",
      "                'phone': '043-276-5520',\n",
      "                'place_name': '보당해장국',\n",
      "                'place_url': 'http://place.map.kakao.com/7891339',\n",
      "                'road_address_name': '충북 청주시 흥덕구 내수동로 18-1',\n",
      "                'x': '127.44939489686082',\n",
      "                'y': '36.633266054137295'},\n",
      "               {'address_name': '충북 청주시 흥덕구 복대동 885-7',\n",
      "                'category_group_code': 'FD6',\n",
      "                'category_group_name': '음식점',\n",
      "                'category_name': '음식점 > 일식 > 돈까스,우동',\n",
      "                'distance': '505',\n",
      "                'id': '16421313',\n",
      "                'phone': '',\n",
      "                'place_name': '흥부네왕돈까스',\n",
      "                'place_url': 'http://place.map.kakao.com/16421313',\n",
      "                'road_address_name': '충북 청주시 흥덕구 내수동로 63',\n",
      "                'x': '127.454481614692',\n",
      "                'y': '36.6327835775711'},\n",
      "               {'address_name': '충북 청주시 흥덕구 복대동 905-15',\n",
      "                'category_group_code': 'FD6',\n",
      "                'category_group_name': '음식점',\n",
      "                'category_name': '음식점 > 양식 > 햄버거',\n",
      "                'distance': '697',\n",
      "                'id': '1528909645',\n",
      "                'phone': '0502-5550-7059',\n",
      "                'place_name': '바니시버거 충북대본점',\n",
      "                'place_url': 'http://place.map.kakao.com/1528909645',\n",
      "                'road_address_name': '충북 청주시 흥덕구 사직대로82번길 14',\n",
      "                'x': '127.456156174861',\n",
      "                'y': '36.6338657426474'},\n",
      "               {'address_name': '충북 청주시 흥덕구 복대동 870-5',\n",
      "                'category_group_code': 'FD6',\n",
      "                'category_group_name': '음식점',\n",
      "                'category_name': '음식점 > 분식',\n",
      "                'distance': '613',\n",
      "                'id': '2054428334',\n",
      "                'phone': '043-260-9132',\n",
      "                'place_name': '몽키만두',\n",
      "                'place_url': 'http://place.map.kakao.com/2054428334',\n",
      "                'road_address_name': '충북 청주시 흥덕구 사직대로 62',\n",
      "                'x': '127.4542147466797',\n",
      "                'y': '36.63436788039346'},\n",
      "               {'address_name': '충북 청주시 서원구 개신동 511',\n",
      "                'category_group_code': 'FD6',\n",
      "                'category_group_name': '음식점',\n",
      "                'category_name': '음식점 > 한식 > 찌개,전골',\n",
      "                'distance': '681',\n",
      "                'id': '10376624',\n",
      "                'phone': '043-274-8292',\n",
      "                'place_name': '보글보글촌',\n",
      "                'place_url': 'http://place.map.kakao.com/10376624',\n",
      "                'road_address_name': '충북 청주시 서원구 신율로 70-1',\n",
      "                'x': '127.447281094691',\n",
      "                'y': '36.6242608984536'},\n",
      "               {'address_name': '충북 청주시 흥덕구 복대동 1784',\n",
      "                'category_group_code': 'FD6',\n",
      "                'category_group_name': '음식점',\n",
      "                'category_name': '음식점 > 분식',\n",
      "                'distance': '256',\n",
      "                'id': '484394023',\n",
      "                'phone': '043-272-2964',\n",
      "                'place_name': '엄마김밥',\n",
      "                'place_url': 'http://place.map.kakao.com/484394023',\n",
      "                'road_address_name': '충북 청주시 흥덕구 풍산로 166-1',\n",
      "                'x': '127.44810476049408',\n",
      "                'y': '36.628269639484756'},\n",
      "               {'address_name': '충북 청주시 흥덕구 복대동 865-9',\n",
      "                'category_group_code': 'FD6',\n",
      "                'category_group_name': '음식점',\n",
      "                'category_name': '음식점 > 중식 > 중국요리',\n",
      "                'distance': '404',\n",
      "                'id': '1574390340',\n",
      "                'phone': '043-263-8088',\n",
      "                'place_name': '로충칭마라탕',\n",
      "                'place_url': 'http://place.map.kakao.com/1574390340',\n",
      "                'road_address_name': '충북 청주시 흥덕구 충대로 3-1',\n",
      "                'x': '127.45274922378549',\n",
      "                'y': '36.63289290234422'},\n",
      "               {'address_name': '충북 청주시 서원구 사창동 146-25',\n",
      "                'category_group_code': 'FD6',\n",
      "                'category_group_name': '음식점',\n",
      "                'category_name': '음식점 > 한식',\n",
      "                'distance': '844',\n",
      "                'id': '1473717336',\n",
      "                'phone': '',\n",
      "                'place_name': '우주식탁',\n",
      "                'place_url': 'http://place.map.kakao.com/1473717336',\n",
      "                'road_address_name': '충북 청주시 서원구 1순환로648번길 58',\n",
      "                'x': '127.456532557309',\n",
      "                'y': '36.6355007522645'},\n",
      "               {'address_name': '충북 청주시 흥덕구 복대동 177-7',\n",
      "                'category_group_code': 'FD6',\n",
      "                'category_group_name': '음식점',\n",
      "                'category_name': '음식점 > 한식 > 육류,고기 > 족발,보쌈',\n",
      "                'distance': '303',\n",
      "                'id': '17528449',\n",
      "                'phone': '043-263-7015',\n",
      "                'place_name': '둥지마을 왕족발',\n",
      "                'place_url': 'http://place.map.kakao.com/17528449',\n",
      "                'road_address_name': '충북 청주시 흥덕구 내수동로 34',\n",
      "                'x': '127.450925240484',\n",
      "                'y': '36.6326348875747'},\n",
      "               {'address_name': '충북 청주시 흥덕구 복대동 1649',\n",
      "                'category_group_code': 'FD6',\n",
      "                'category_group_name': '음식점',\n",
      "                'category_name': '음식점 > 한식 > 육류,고기 > 족발,보쌈',\n",
      "                'distance': '176',\n",
      "                'id': '672315257',\n",
      "                'phone': '0502-5550-1850',\n",
      "                'place_name': '장충동왕족발보쌈',\n",
      "                'place_url': 'http://place.map.kakao.com/672315257',\n",
      "                'road_address_name': '충북 청주시 흥덕구 성봉로 293-1',\n",
      "                'x': '127.45117227769595',\n",
      "                'y': '36.63128225705592'},\n",
      "               {'address_name': '충북 청주시 흥덕구 복대동 905-15',\n",
      "                'category_group_code': 'FD6',\n",
      "                'category_group_name': '음식점',\n",
      "                'category_name': '음식점 > 분식',\n",
      "                'distance': '695',\n",
      "                'id': '26623322',\n",
      "                'phone': '043-264-7050',\n",
      "                'place_name': '햇살왕만두',\n",
      "                'place_url': 'http://place.map.kakao.com/26623322',\n",
      "                'road_address_name': '충북 청주시 흥덕구 사직대로82번길 14',\n",
      "                'x': '127.45618708786076',\n",
      "                'y': '36.63379894068494'},\n",
      "               {'address_name': '충북 청주시 서원구 개신동 301',\n",
      "                'category_group_code': 'FD6',\n",
      "                'category_group_name': '음식점',\n",
      "                'category_name': '음식점 > 중식 > 중국요리',\n",
      "                'distance': '893',\n",
      "                'id': '17181878',\n",
      "                'phone': '043-268-9500',\n",
      "                'place_name': '반객',\n",
      "                'place_url': 'http://place.map.kakao.com/17181878',\n",
      "                'road_address_name': '충북 청주시 서원구 성봉로 186',\n",
      "                'x': '127.450903440773',\n",
      "                'y': '36.6219836029925'},\n",
      "               {'address_name': '충북 청주시 흥덕구 복대동 177-8',\n",
      "                'category_group_code': 'FD6',\n",
      "                'category_group_name': '음식점',\n",
      "                'category_name': '음식점 > 한식 > 육류,고기 > 곱창,막창',\n",
      "                'distance': '303',\n",
      "                'id': '16137684',\n",
      "                'phone': '043-272-7112',\n",
      "                'place_name': '대구전봇대막창 충북대점',\n",
      "                'place_url': 'http://place.map.kakao.com/16137684',\n",
      "                'road_address_name': '충북 청주시 흥덕구 내수동로34번길 4',\n",
      "                'x': '127.45108598865',\n",
      "                'y': '36.632591024816'}],\n",
      " 'meta': {'is_end': False,\n",
      "          'pageable_count': 45,\n",
      "          'same_name': None,\n",
      "          'total_count': 756}}\n",
      "✅ 저장 완료: stores.csv\n"
     ]
    }
   ],
   "source": [
    "from pprint import pprint\n",
    "\n",
    "response = requests.get(URL, headers=headers, params=params)\n",
    "\n",
    "if response.status_code == 200:\n",
    "    data = response.json()\n",
    "    stores = data.get(\"documents\", [])\n",
    "\n",
    "    pprint(data)\n",
    "    # csv 파일로 저장\n",
    "    with open(\"stores.csv\", \"w\", newline=\"\", encoding=\"utf-8\") as f:\n",
    "        writer = csv.writer(f)\n",
    "        writer.writerow([\"Name\", \"Address\", \"Phone\", \"Latitude\", \"Longitude\"])\n",
    "\n",
    "        for store in stores:\n",
    "            writer.writerow([\n",
    "                store[\"place_name\"],\n",
    "                store[\"address_name\"],\n",
    "                store[\"phone\"],\n",
    "                store[\"y\"],\n",
    "                store[\"x\"]\n",
    "            ])\n",
    "    print(\"\\u2705 저장 완료: stores.csv\")\n",
    "else:\n",
    "    print(\"\\u274C API 호출 실패\", response.status_code)"
   ]
  }
 ],
 "metadata": {
  "kernelspec": {
   "display_name": "Python 3",
   "language": "python",
   "name": "python3"
  },
  "language_info": {
   "codemirror_mode": {
    "name": "ipython",
    "version": 3
   },
   "file_extension": ".py",
   "mimetype": "text/x-python",
   "name": "python",
   "nbconvert_exporter": "python",
   "pygments_lexer": "ipython3",
   "version": "3.11.9"
  }
 },
 "nbformat": 4,
 "nbformat_minor": 2
}
